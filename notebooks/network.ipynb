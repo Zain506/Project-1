{
 "cells": [
  {
   "cell_type": "markdown",
   "id": "ad9bcc77",
   "metadata": {},
   "source": [
    "# Neural Network\n",
    "- Expand on Perceptron and build Network class"
   ]
  },
  {
   "cell_type": "markdown",
   "id": "554ff698",
   "metadata": {},
   "source": [
    "## Imports"
   ]
  },
  {
   "cell_type": "code",
   "execution_count": null,
   "id": "ee377050",
   "metadata": {},
   "outputs": [],
   "source": [
    "import numpy as np\n",
    "import pandas as pd\n",
    "import matplotlib.pyplot as plt\n",
    "import sys\n",
    "import os\n",
    "sys.path.append(os.path.abspath(os.path.join(os.getcwd(), \"..\")))\n",
    "\n",
    "from src import Perceptron"
   ]
  },
  {
   "cell_type": "code",
   "execution_count": null,
   "id": "a1325003",
   "metadata": {},
   "outputs": [],
   "source": [
    "class Network:\n",
    "    def __init__(self, inputs: int, outputs: int, hidden: list = []):\n",
    "        self.inputs = inputs\n",
    "        self.outputs = outputs\n",
    "        self.hidden = hidden"
   ]
  }
 ],
 "metadata": {
  "kernelspec": {
   "display_name": ".venv",
   "language": "python",
   "name": "python3"
  },
  "language_info": {
   "name": "python",
   "version": "3.12.1"
  }
 },
 "nbformat": 4,
 "nbformat_minor": 5
}
